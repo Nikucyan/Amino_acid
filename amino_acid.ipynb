{
 "cells": [
  {
   "cell_type": "code",
   "execution_count": 11,
   "metadata": {},
   "outputs": [
    {
     "name": "stdout",
     "output_type": "stream",
     "text": [
      "['A' 'B' 'C' 'D' 'E' 'F' 'G' 'H' 'I' 'J' 'K' 'L' 'M' 'N' 'O' 'P' 'Q' 'R'\n",
      " 'S' 'T']\n"
     ]
    }
   ],
   "source": [
    "import numpy as np\n",
    "\n",
    "#amino_acid = np.array([A, B, C, D, E, F, G, ])\n",
    "#print(amino_acid)"
   ]
  },
  {
   "cell_type": "markdown",
   "metadata": {},
   "source": [
    "Elem: C, H, O, N, S\n"
   ]
  },
  {
   "cell_type": "code",
   "execution_count": 45,
   "metadata": {},
   "outputs": [
    {
     "name": "stdout",
     "output_type": "stream",
     "text": [
      "14.2343432 2\n",
      "43.692804699999996\n"
     ]
    }
   ],
   "source": [
    "class elem:\n",
    "    def __init__(self, name, mw, marked):\n",
    "        self.name = name\n",
    "        self.mw = mw\n",
    "        self.marked = marked\n",
    "\n",
    "C = elem(\"Carbon\", 12.2309349, 14.2343432)\n",
    "H = elem(\"Hydrogen\", 1, 2)\n",
    "\n",
    "print(C.marked, H.marked)\n",
    "\n",
    "# for i in range (0,20):\n",
    "\n",
    "class amino_acid:\n",
    "    def __init__(self, name, C, H, O, N, S, Mw):\n",
    "        self.name = name\n",
    "        self.C = C\n",
    "        self.H = H\n",
    "        self.O = O\n",
    "        self.N = N\n",
    "        self.S = S\n",
    "        self.Mw = Mw\n",
    "    def MoleWeight(self):\n",
    "        # for name,value in vars(self).items():\n",
    "            # print(\"%s=%s\"%(name,value))\n",
    "        self.Mw = self.C * C.mw + self.H * H.mw + self.O + self.N + self.S\n",
    "\n",
    "Ami_A = amino_acid(\"Alanine\", 3, 5, 1, 1, 0, 0)\n",
    "# Ami_A.Mw += C.mw * Ami_A.C\n",
    "\n",
    "Ami_A.MoleWeight()\n",
    "print(Ami_A.Mw)\n",
    "\n"
   ]
  }
 ],
 "metadata": {
  "kernelspec": {
   "display_name": "Python 3.10.4 64-bit",
   "language": "python",
   "name": "python3"
  },
  "language_info": {
   "codemirror_mode": {
    "name": "ipython",
    "version": 3
   },
   "file_extension": ".py",
   "mimetype": "text/x-python",
   "name": "python",
   "nbconvert_exporter": "python",
   "pygments_lexer": "ipython3",
   "version": "3.10.4"
  },
  "orig_nbformat": 4,
  "vscode": {
   "interpreter": {
    "hash": "174e4fd585f8ba0faf374dc031976f2757bb013dec2b6ac1a28e43d7bf8a8010"
   }
  }
 },
 "nbformat": 4,
 "nbformat_minor": 2
}
